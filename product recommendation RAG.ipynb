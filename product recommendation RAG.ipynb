{
 "cells": [
  {
   "cell_type": "markdown",
   "id": "5c1eae6e-dba5-48d4-a766-78b4f76fd3b1",
   "metadata": {
    "editable": true,
    "slideshow": {
     "slide_type": ""
    },
    "tags": []
   },
   "source": [
    "# Load and Preprocess Food Reviews Dataset"
   ]
  },
  {
   "cell_type": "code",
   "execution_count": 1,
   "id": "694c4b93-5607-4957-a337-ce54415eca73",
   "metadata": {},
   "outputs": [
    {
     "data": {
      "text/html": [
       "<div>\n",
       "<style scoped>\n",
       "    .dataframe tbody tr th:only-of-type {\n",
       "        vertical-align: middle;\n",
       "    }\n",
       "\n",
       "    .dataframe tbody tr th {\n",
       "        vertical-align: top;\n",
       "    }\n",
       "\n",
       "    .dataframe thead th {\n",
       "        text-align: right;\n",
       "    }\n",
       "</style>\n",
       "<table border=\"1\" class=\"dataframe\">\n",
       "  <thead>\n",
       "    <tr style=\"text-align: right;\">\n",
       "      <th></th>\n",
       "      <th>ProductId</th>\n",
       "      <th>Score</th>\n",
       "      <th>Summary</th>\n",
       "      <th>Text</th>\n",
       "    </tr>\n",
       "  </thead>\n",
       "  <tbody>\n",
       "    <tr>\n",
       "      <th>0</th>\n",
       "      <td>B001E4KFG0</td>\n",
       "      <td>5</td>\n",
       "      <td>Good Quality Dog Food</td>\n",
       "      <td>I have bought several of the Vitality canned d...</td>\n",
       "    </tr>\n",
       "    <tr>\n",
       "      <th>1</th>\n",
       "      <td>B00813GRG4</td>\n",
       "      <td>1</td>\n",
       "      <td>Not as Advertised</td>\n",
       "      <td>Product arrived labeled as Jumbo Salted Peanut...</td>\n",
       "    </tr>\n",
       "    <tr>\n",
       "      <th>2</th>\n",
       "      <td>B000LQOCH0</td>\n",
       "      <td>4</td>\n",
       "      <td>\"Delight\" says it all</td>\n",
       "      <td>This is a confection that has been around a fe...</td>\n",
       "    </tr>\n",
       "    <tr>\n",
       "      <th>3</th>\n",
       "      <td>B000UA0QIQ</td>\n",
       "      <td>2</td>\n",
       "      <td>Cough Medicine</td>\n",
       "      <td>If you are looking for the secret ingredient i...</td>\n",
       "    </tr>\n",
       "    <tr>\n",
       "      <th>4</th>\n",
       "      <td>B006K2ZZ7K</td>\n",
       "      <td>5</td>\n",
       "      <td>Great taffy</td>\n",
       "      <td>Great taffy at a great price.  There was a wid...</td>\n",
       "    </tr>\n",
       "  </tbody>\n",
       "</table>\n",
       "</div>"
      ],
      "text/plain": [
       "    ProductId  Score                Summary  \\\n",
       "0  B001E4KFG0      5  Good Quality Dog Food   \n",
       "1  B00813GRG4      1      Not as Advertised   \n",
       "2  B000LQOCH0      4  \"Delight\" says it all   \n",
       "3  B000UA0QIQ      2         Cough Medicine   \n",
       "4  B006K2ZZ7K      5            Great taffy   \n",
       "\n",
       "                                                Text  \n",
       "0  I have bought several of the Vitality canned d...  \n",
       "1  Product arrived labeled as Jumbo Salted Peanut...  \n",
       "2  This is a confection that has been around a fe...  \n",
       "3  If you are looking for the secret ingredient i...  \n",
       "4  Great taffy at a great price.  There was a wid...  "
      ]
     },
     "execution_count": 1,
     "metadata": {},
     "output_type": "execute_result"
    }
   ],
   "source": [
    "# Import necessary libraries\n",
    "import pandas as pd\n",
    "import numpy as np\n",
    "import faiss\n",
    "\n",
    "# Load the dataset\n",
    "df = pd.read_csv(\"food_reviews_1k.csv\")\n",
    " \n",
    "# Display the first few rows of the dataset\n",
    "df.head()"
   ]
  },
  {
   "cell_type": "code",
   "execution_count": 2,
   "id": "1cec198f-9f99-4d06-9d75-6ecc026b0422",
   "metadata": {},
   "outputs": [
    {
     "data": {
      "text/html": [
       "<div>\n",
       "<style scoped>\n",
       "    .dataframe tbody tr th:only-of-type {\n",
       "        vertical-align: middle;\n",
       "    }\n",
       "\n",
       "    .dataframe tbody tr th {\n",
       "        vertical-align: top;\n",
       "    }\n",
       "\n",
       "    .dataframe thead th {\n",
       "        text-align: right;\n",
       "    }\n",
       "</style>\n",
       "<table border=\"1\" class=\"dataframe\">\n",
       "  <thead>\n",
       "    <tr style=\"text-align: right;\">\n",
       "      <th></th>\n",
       "      <th>ProductId</th>\n",
       "      <th>Score</th>\n",
       "      <th>Summary</th>\n",
       "      <th>Text</th>\n",
       "      <th>processed_text</th>\n",
       "    </tr>\n",
       "  </thead>\n",
       "  <tbody>\n",
       "    <tr>\n",
       "      <th>0</th>\n",
       "      <td>B001E4KFG0</td>\n",
       "      <td>5</td>\n",
       "      <td>Good Quality Dog Food</td>\n",
       "      <td>I have bought several of the Vitality canned d...</td>\n",
       "      <td>i have bought several of the vitality canned d...</td>\n",
       "    </tr>\n",
       "    <tr>\n",
       "      <th>1</th>\n",
       "      <td>B00813GRG4</td>\n",
       "      <td>1</td>\n",
       "      <td>Not as Advertised</td>\n",
       "      <td>Product arrived labeled as Jumbo Salted Peanut...</td>\n",
       "      <td>product arrived labeled as jumbo salted peanut...</td>\n",
       "    </tr>\n",
       "    <tr>\n",
       "      <th>2</th>\n",
       "      <td>B000LQOCH0</td>\n",
       "      <td>4</td>\n",
       "      <td>\"Delight\" says it all</td>\n",
       "      <td>This is a confection that has been around a fe...</td>\n",
       "      <td>this is a confection that has been around a fe...</td>\n",
       "    </tr>\n",
       "    <tr>\n",
       "      <th>3</th>\n",
       "      <td>B000UA0QIQ</td>\n",
       "      <td>2</td>\n",
       "      <td>Cough Medicine</td>\n",
       "      <td>If you are looking for the secret ingredient i...</td>\n",
       "      <td>if you are looking for the secret ingredient i...</td>\n",
       "    </tr>\n",
       "    <tr>\n",
       "      <th>4</th>\n",
       "      <td>B006K2ZZ7K</td>\n",
       "      <td>5</td>\n",
       "      <td>Great taffy</td>\n",
       "      <td>Great taffy at a great price.  There was a wid...</td>\n",
       "      <td>great taffy at a great price  there was a wide...</td>\n",
       "    </tr>\n",
       "  </tbody>\n",
       "</table>\n",
       "</div>"
      ],
      "text/plain": [
       "    ProductId  Score                Summary  \\\n",
       "0  B001E4KFG0      5  Good Quality Dog Food   \n",
       "1  B00813GRG4      1      Not as Advertised   \n",
       "2  B000LQOCH0      4  \"Delight\" says it all   \n",
       "3  B000UA0QIQ      2         Cough Medicine   \n",
       "4  B006K2ZZ7K      5            Great taffy   \n",
       "\n",
       "                                                Text  \\\n",
       "0  I have bought several of the Vitality canned d...   \n",
       "1  Product arrived labeled as Jumbo Salted Peanut...   \n",
       "2  This is a confection that has been around a fe...   \n",
       "3  If you are looking for the secret ingredient i...   \n",
       "4  Great taffy at a great price.  There was a wid...   \n",
       "\n",
       "                                      processed_text  \n",
       "0  i have bought several of the vitality canned d...  \n",
       "1  product arrived labeled as jumbo salted peanut...  \n",
       "2  this is a confection that has been around a fe...  \n",
       "3  if you are looking for the secret ingredient i...  \n",
       "4  great taffy at a great price  there was a wide...  "
      ]
     },
     "execution_count": 2,
     "metadata": {},
     "output_type": "execute_result"
    }
   ],
   "source": [
    "# Drop rows with missing 'Text' values\n",
    "df.dropna(subset=['Text'], inplace=True)\n",
    " \n",
    "# Convert text to lowercase and remove punctuation\n",
    "df['processed_text'] = df['Text'].str.lower().str.replace('[^\\w\\s]', '', regex=True)\n",
    " \n",
    "# Display the first few rows to verify preprocessing\n",
    "df.head()"
   ]
  },
  {
   "cell_type": "markdown",
   "id": "aa850c1b-b2e8-41e0-9bc2-10a9659fc113",
   "metadata": {},
   "source": [
    "# Vectorize Text Data and Build a FAISS Index for Similar Product Retrieval"
   ]
  },
  {
   "cell_type": "code",
   "execution_count": 3,
   "id": "f46248f5-c4d9-4015-9114-ec4bc7ea9b2a",
   "metadata": {},
   "outputs": [],
   "source": [
    "from sklearn.feature_extraction.text import TfidfVectorizer\n",
    "\n",
    "# Vectorize the review texts\n",
    "vectorizer = TfidfVectorizer(max_features=10000)\n",
    "X = vectorizer.fit_transform(df['processed_text']).toarray()"
   ]
  },
  {
   "cell_type": "markdown",
   "id": "f355b69d-a520-40db-add6-dc056f48a782",
   "metadata": {},
   "source": [
    "Create a FAISS index to enable efficient similarity searches based on the vectorized text data. The index will use L2 distance (Euclidean distance) to measure similarity."
   ]
  },
  {
   "cell_type": "code",
   "execution_count": 4,
   "id": "ed42e714-4392-4db2-86da-2d32ec8b64ab",
   "metadata": {},
   "outputs": [],
   "source": [
    "# Build the FAISS index\n",
    "index = faiss.IndexFlatL2(X.shape[1])\n",
    "index.add(X)"
   ]
  },
  {
   "cell_type": "markdown",
   "id": "59c70427-dc4e-4008-963a-139ac5e9e729",
   "metadata": {},
   "source": [
    "Implement a function retrieve_similar_products(query, k=5) that takes a query string and an optional parameter k (default is 5), vectorizes the query, searches the FAISS index, and returns the most similar products from the dataset."
   ]
  },
  {
   "cell_type": "code",
   "execution_count": 6,
   "id": "5d14cc7d-9d42-4cd3-93dd-70add106a336",
   "metadata": {},
   "outputs": [],
   "source": [
    "# Function to retrieve similar products\n",
    "def retrieve_similar_products(query, k=5):\n",
    "    \"\"\"\n",
    "    Retrieve the top k most similar products to the given query.\n",
    " \n",
    "    Parameters:\n",
    "    - query (str): The query string for which similar products are to be retrieved.\n",
    "    - k (int, optional): The number of similar products to retrieve. Default is 5.\n",
    " \n",
    "    Returns:\n",
    "    - DataFrame: A DataFrame containing the top k most similar products.\n",
    "    \"\"\"\n",
    "    query_vec = vectorizer.transform([query]).toarray()\n",
    "    distances, indices = index.search(query_vec, k)\n",
    "    return df.iloc[indices[0]]"
   ]
  },
  {
   "cell_type": "code",
   "execution_count": 7,
   "id": "51f439a5-da44-4e5d-b450-3659b054a1a6",
   "metadata": {},
   "outputs": [
    {
     "data": {
      "text/html": [
       "<div>\n",
       "<style scoped>\n",
       "    .dataframe tbody tr th:only-of-type {\n",
       "        vertical-align: middle;\n",
       "    }\n",
       "\n",
       "    .dataframe tbody tr th {\n",
       "        vertical-align: top;\n",
       "    }\n",
       "\n",
       "    .dataframe thead th {\n",
       "        text-align: right;\n",
       "    }\n",
       "</style>\n",
       "<table border=\"1\" class=\"dataframe\">\n",
       "  <thead>\n",
       "    <tr style=\"text-align: right;\">\n",
       "      <th></th>\n",
       "      <th>ProductId</th>\n",
       "      <th>Score</th>\n",
       "      <th>Summary</th>\n",
       "      <th>Text</th>\n",
       "      <th>processed_text</th>\n",
       "    </tr>\n",
       "  </thead>\n",
       "  <tbody>\n",
       "    <tr>\n",
       "      <th>392</th>\n",
       "      <td>B001FA1MCO</td>\n",
       "      <td>5</td>\n",
       "      <td>Ham Base</td>\n",
       "      <td>This is a great ham soup base.  I have used it...</td>\n",
       "      <td>this is a great ham soup base  i have used it ...</td>\n",
       "    </tr>\n",
       "    <tr>\n",
       "      <th>393</th>\n",
       "      <td>B001FA1MCO</td>\n",
       "      <td>1</td>\n",
       "      <td>MSG Ham Base</td>\n",
       "      <td>I haven't used the ham base. It is loaded with...</td>\n",
       "      <td>i havent used the ham base it is loaded with m...</td>\n",
       "    </tr>\n",
       "    <tr>\n",
       "      <th>852</th>\n",
       "      <td>B0007NG568</td>\n",
       "      <td>5</td>\n",
       "      <td>Good oatmeal, I'm on my second bag</td>\n",
       "      <td>I'm happy with the quality of the product and ...</td>\n",
       "      <td>im happy with the quality of the product and t...</td>\n",
       "    </tr>\n",
       "    <tr>\n",
       "      <th>184</th>\n",
       "      <td>B001KUUNP6</td>\n",
       "      <td>5</td>\n",
       "      <td>Garbonzo  Bean Flour</td>\n",
       "      <td>This  is great stuff.  Made some really tasty ...</td>\n",
       "      <td>this  is great stuff  made some really tasty b...</td>\n",
       "    </tr>\n",
       "    <tr>\n",
       "      <th>113</th>\n",
       "      <td>B0037LW78C</td>\n",
       "      <td>5</td>\n",
       "      <td>the best tea ever... freah bright clean</td>\n",
       "      <td>this has to be one of the best teas I have eve...</td>\n",
       "      <td>this has to be one of the best teas i have eve...</td>\n",
       "    </tr>\n",
       "  </tbody>\n",
       "</table>\n",
       "</div>"
      ],
      "text/plain": [
       "      ProductId  Score                                  Summary  \\\n",
       "392  B001FA1MCO      5                                 Ham Base   \n",
       "393  B001FA1MCO      1                             MSG Ham Base   \n",
       "852  B0007NG568      5       Good oatmeal, I'm on my second bag   \n",
       "184  B001KUUNP6      5                     Garbonzo  Bean Flour   \n",
       "113  B0037LW78C      5  the best tea ever... freah bright clean   \n",
       "\n",
       "                                                  Text  \\\n",
       "392  This is a great ham soup base.  I have used it...   \n",
       "393  I haven't used the ham base. It is loaded with...   \n",
       "852  I'm happy with the quality of the product and ...   \n",
       "184  This  is great stuff.  Made some really tasty ...   \n",
       "113  this has to be one of the best teas I have eve...   \n",
       "\n",
       "                                        processed_text  \n",
       "392  this is a great ham soup base  i have used it ...  \n",
       "393  i havent used the ham base it is loaded with m...  \n",
       "852  im happy with the quality of the product and t...  \n",
       "184  this  is great stuff  made some really tasty b...  \n",
       "113  this has to be one of the best teas i have eve...  "
      ]
     },
     "execution_count": 7,
     "metadata": {},
     "output_type": "execute_result"
    }
   ],
   "source": [
    "# Test the retriever\n",
    "query = \"great quality ham\"\n",
    "retrieve_similar_products(query)"
   ]
  },
  {
   "cell_type": "code",
   "execution_count": 9,
   "id": "dce91e94-ee6d-44fa-95ac-fcdf9860eb28",
   "metadata": {},
   "outputs": [
    {
     "data": {
      "text/html": [
       "<div>\n",
       "<style scoped>\n",
       "    .dataframe tbody tr th:only-of-type {\n",
       "        vertical-align: middle;\n",
       "    }\n",
       "\n",
       "    .dataframe tbody tr th {\n",
       "        vertical-align: top;\n",
       "    }\n",
       "\n",
       "    .dataframe thead th {\n",
       "        text-align: right;\n",
       "    }\n",
       "</style>\n",
       "<table border=\"1\" class=\"dataframe\">\n",
       "  <thead>\n",
       "    <tr style=\"text-align: right;\">\n",
       "      <th></th>\n",
       "      <th>ProductId</th>\n",
       "      <th>Score</th>\n",
       "      <th>Summary</th>\n",
       "      <th>Text</th>\n",
       "      <th>processed_text</th>\n",
       "    </tr>\n",
       "  </thead>\n",
       "  <tbody>\n",
       "    <tr>\n",
       "      <th>619</th>\n",
       "      <td>B000G6RYNE</td>\n",
       "      <td>5</td>\n",
       "      <td>Delicious!</td>\n",
       "      <td>At first I was thinking, \"cheese flavored chip...</td>\n",
       "      <td>at first i was thinking cheese flavored chips ...</td>\n",
       "    </tr>\n",
       "    <tr>\n",
       "      <th>747</th>\n",
       "      <td>B000QWXG9O</td>\n",
       "      <td>3</td>\n",
       "      <td>Annie's Homegrown Organic Whole Wheat Shells &amp;...</td>\n",
       "      <td>This product is made by Annie's Inc. in Berkel...</td>\n",
       "      <td>this product is made by annies inc in berkely ...</td>\n",
       "    </tr>\n",
       "    <tr>\n",
       "      <th>415</th>\n",
       "      <td>B005WU7V00</td>\n",
       "      <td>5</td>\n",
       "      <td>VERY GOOD! Great taste and easy for a single guy!</td>\n",
       "      <td>I was surprised about how good this was my fam...</td>\n",
       "      <td>i was surprised about how good this was my fam...</td>\n",
       "    </tr>\n",
       "    <tr>\n",
       "      <th>610</th>\n",
       "      <td>B000G6RYNE</td>\n",
       "      <td>5</td>\n",
       "      <td>Caution: Kettle Chips are addictive!</td>\n",
       "      <td>These really are amazing chips. Don't be put o...</td>\n",
       "      <td>these really are amazing chips dont be put off...</td>\n",
       "    </tr>\n",
       "    <tr>\n",
       "      <th>440</th>\n",
       "      <td>B000G6RYNE</td>\n",
       "      <td>3</td>\n",
       "      <td>Honey Dijon leaves bad aftertaste, NY Cheddar ...</td>\n",
       "      <td>Honey Dijon flavor: okay flavor, but both my g...</td>\n",
       "      <td>honey dijon flavor okay flavor but both my gir...</td>\n",
       "    </tr>\n",
       "  </tbody>\n",
       "</table>\n",
       "</div>"
      ],
      "text/plain": [
       "      ProductId  Score                                            Summary  \\\n",
       "619  B000G6RYNE      5                                         Delicious!   \n",
       "747  B000QWXG9O      3  Annie's Homegrown Organic Whole Wheat Shells &...   \n",
       "415  B005WU7V00      5  VERY GOOD! Great taste and easy for a single guy!   \n",
       "610  B000G6RYNE      5               Caution: Kettle Chips are addictive!   \n",
       "440  B000G6RYNE      3  Honey Dijon leaves bad aftertaste, NY Cheddar ...   \n",
       "\n",
       "                                                  Text  \\\n",
       "619  At first I was thinking, \"cheese flavored chip...   \n",
       "747  This product is made by Annie's Inc. in Berkel...   \n",
       "415  I was surprised about how good this was my fam...   \n",
       "610  These really are amazing chips. Don't be put o...   \n",
       "440  Honey Dijon flavor: okay flavor, but both my g...   \n",
       "\n",
       "                                        processed_text  \n",
       "619  at first i was thinking cheese flavored chips ...  \n",
       "747  this product is made by annies inc in berkely ...  \n",
       "415  i was surprised about how good this was my fam...  \n",
       "610  these really are amazing chips dont be put off...  \n",
       "440  honey dijon flavor okay flavor but both my gir...  "
      ]
     },
     "execution_count": 9,
     "metadata": {},
     "output_type": "execute_result"
    }
   ],
   "source": [
    "# Example usage\n",
    "query = \"Best Cheese\"\n",
    "similar_products = retrieve_similar_products(query)\n",
    "similar_products"
   ]
  },
  {
   "cell_type": "markdown",
   "id": "19b0df46-a27f-4e26-bcf9-4583a5f9d144",
   "metadata": {},
   "source": [
    "# Access the performance of the Product Retrieval Function"
   ]
  },
  {
   "cell_type": "markdown",
   "id": "62feb435-4359-4690-ae15-ea31dc0c3831",
   "metadata": {},
   "source": [
    "Assess the performance of the product retrieval function by evaluating the relevance of the retrieved products based on a user-provided query. This involves implementing a function to display the retrieved products, prompting the user to rate their relevance, and calculating an average relevance score. \n",
    "\n",
    "The steps include:\n",
    "\n",
    "    Implementing a function to retrieve and display similar products.\n",
    "\n",
    "    Prompting the user to assess the relevance of the retrieved products.\n",
    "\n",
    "    Calculating and displaying the average relevance score."
   ]
  },
  {
   "cell_type": "code",
   "execution_count": 10,
   "id": "0f7ce959-3ed5-4bd3-be60-f598360a573a",
   "metadata": {},
   "outputs": [],
   "source": [
    "def assess_retrieval_function(query, k=5):\n",
    "    \"\"\"\n",
    "    Assess the performance of the product retrieval function by evaluating the relevance of the retrieved products.\n",
    " \n",
    "    Parameters:\n",
    "    - query (str): The query string for which similar products are to be retrieved.\n",
    "    - k (int, optional): The number of similar products to retrieve and assess. Default is 5.\n",
    " \n",
    "    Returns:\n",
    "    - dict: A dictionary containing the query and the average relevance score.\n",
    "    \"\"\"\n",
    "    # Retrieve similar products\n",
    "    similar_products = retrieve_similar_products(query, k)\n",
    "    \n",
    "    # Display the top k products with their summaries and texts\n",
    "    print(f\"Query: {query}\\n\")\n",
    "    for i, row in similar_products.iterrows():\n",
    "        print(f\"Product {i+1}:\")\n",
    "        print(f\"Summary: {row['Summary']}\")\n",
    "        print(f\"Text: {row['processed_text']}\\n\")\n",
    "    \n",
    "    # Initialize list to store relevance scores\n",
    "    relevance_scores = []\n",
    "    \n",
    "    # Prompt user for relevance assessment\n",
    "    for i in range(k):\n",
    "        relevance = int(input(f\"Relevance for Product {i+1} (1-5): \"))\n",
    "        relevance_scores.append(relevance)\n",
    "    \n",
    "    # Calculate average relevance score\n",
    "    avg_relevance = sum(relevance_scores) / k\n",
    "    \n",
    "    # Print average relevance score\n",
    "    print(f\"\\nAssessment Results for Query '{query}':\")\n",
    "    print(f\"Average Relevance: {avg_relevance:.2f}\")\n",
    "    \n",
    "    # Return the average relevance score\n",
    "    return {\n",
    "        \"query\": query,\n",
    "        \"average_relevance\": avg_relevance\n",
    "    }"
   ]
  },
  {
   "cell_type": "code",
   "execution_count": 11,
   "id": "2c4bc169-7a0b-4149-96dd-5c0febb84009",
   "metadata": {},
   "outputs": [
    {
     "name": "stdout",
     "output_type": "stream",
     "text": [
      "Query: great quality ham\n",
      "\n",
      "Product 393:\n",
      "Summary: Ham Base\n",
      "Text: this is a great ham soup base  i have used it in ham and beans and seasoned greenbeans  great flavor\n",
      "\n",
      "Product 394:\n",
      "Summary: MSG Ham Base\n",
      "Text: i havent used the ham base it is loaded with msg i did not realize this when i ordered it and can not return it because it is a food item\n",
      "\n",
      "Product 853:\n",
      "Summary: Good oatmeal, I'm on my second bag\n",
      "Text: im happy with the quality of the product and the price like the other reviewer i would prefer if there was a plastic liner to preserve freshness however i will continue to buy this product regardless as it is quality oatmeal at a good pricebr br edit im on my 4th bag quality continues to be high\n",
      "\n",
      "Product 185:\n",
      "Summary: Garbonzo  Bean Flour\n",
      "Text: this  is great stuff  made some really tasty banana bread  good quality and lowest price in town\n",
      "\n",
      "Product 114:\n",
      "Summary: the best tea ever... freah bright clean\n",
      "Text: this has to be one of the best teas i have ever tasted its clean bright freshbr br great deliveryagain quality just try it\n",
      "\n"
     ]
    },
    {
     "name": "stdin",
     "output_type": "stream",
     "text": [
      "Relevance for Product 1 (1-5):  2\n",
      "Relevance for Product 2 (1-5):  3\n",
      "Relevance for Product 3 (1-5):  0\n",
      "Relevance for Product 4 (1-5):  0\n",
      "Relevance for Product 5 (1-5):  0\n"
     ]
    },
    {
     "name": "stdout",
     "output_type": "stream",
     "text": [
      "\n",
      "Assessment Results for Query 'great quality ham':\n",
      "Average Relevance: 1.00\n",
      "{'query': 'great quality ham', 'average_relevance': 1.0}\n"
     ]
    }
   ],
   "source": [
    "# Example usage\n",
    "query = \"great quality ham\"\n",
    "assessment_results = assess_retrieval_function(query)\n",
    "print(assessment_results)"
   ]
  },
  {
   "cell_type": "markdown",
   "id": "a13142c4-ed50-4bf3-a834-5d4cbab9c7e2",
   "metadata": {},
   "source": [
    "# Advanced Text Preprocessing and Building a FAISS Index for Similar Product Retrieval"
   ]
  },
  {
   "cell_type": "markdown",
   "id": "3122da4b-c7a0-4e30-ae1a-d6dcc5ef23ce",
   "metadata": {},
   "source": [
    "Import necessary libraries and download required NLTK resources: punkt, sporwords and wordnet.\n",
    "\n",
    "Define and apply a preprocessing function to clean and lemmatize the text.\n",
    "\n",
    "Vectorize the review texts using TF-IDF with bigrams, and normalize the vectors:\n",
    "\n",
    "Build a FAISS index using the normalized vectors.\n",
    "\n",
    "Implement a function to retrieve similar products based on a query."
   ]
  },
  {
   "cell_type": "code",
   "execution_count": 12,
   "id": "1c88687e-f696-4847-b7c9-491325566e00",
   "metadata": {},
   "outputs": [
    {
     "name": "stderr",
     "output_type": "stream",
     "text": [
      "[nltk_data] Downloading package punkt to /home/labsuser/nltk_data...\n",
      "[nltk_data]   Unzipping tokenizers/punkt.zip.\n",
      "[nltk_data] Downloading package stopwords to\n",
      "[nltk_data]     /home/labsuser/nltk_data...\n",
      "[nltk_data]   Unzipping corpora/stopwords.zip.\n",
      "[nltk_data] Downloading package wordnet to /home/labsuser/nltk_data...\n"
     ]
    },
    {
     "data": {
      "text/plain": [
       "True"
      ]
     },
     "execution_count": 12,
     "metadata": {},
     "output_type": "execute_result"
    }
   ],
   "source": [
    "from sklearn.feature_extraction.text import TfidfVectorizer\n",
    "from sklearn.preprocessing import normalize\n",
    "from nltk.corpus import stopwords\n",
    "from nltk.tokenize import word_tokenize\n",
    "from nltk.stem import WordNetLemmatizer\n",
    "import nltk\n",
    " \n",
    "nltk.download('punkt')\n",
    "nltk.download('stopwords')\n",
    "nltk.download('wordnet')"
   ]
  },
  {
   "cell_type": "code",
   "execution_count": 13,
   "id": "d9dcb21d-8b8c-4be1-96db-a96c1bcf9bc6",
   "metadata": {},
   "outputs": [],
   "source": [
    "# Advanced Text Preprocessing\n",
    "stop_words = set(stopwords.words('english'))\n",
    "lemmatizer = WordNetLemmatizer()\n",
    " \n",
    "def preprocess_text(text):\n",
    "    # Tokenize\n",
    "    words = word_tokenize(text.lower())\n",
    "    # Remove stopwords and non-alphabetic tokens\n",
    "    words = [word for word in words if word.isalpha() and word not in stop_words]\n",
    "    # Lemmatize\n",
    "    words = [lemmatizer.lemmatize(word) for word in words]\n",
    "    return ' '.join(words)\n",
    " \n",
    "# Apply preprocessing to the dataframe\n",
    "df['processed_text'] = df['processed_text'].apply(preprocess_text)"
   ]
  },
  {
   "cell_type": "code",
   "execution_count": 14,
   "id": "a74c66e9-46db-42b2-9357-0227484ccb34",
   "metadata": {},
   "outputs": [],
   "source": [
    "# Vectorize the review texts with enhanced settings\n",
    "vectorizer = TfidfVectorizer(max_features=10000, ngram_range=(1, 2), min_df=2, max_df=0.8)\n",
    "X = vectorizer.fit_transform(df['processed_text']).toarray()"
   ]
  },
  {
   "cell_type": "code",
   "execution_count": 15,
   "id": "b7c4dbc6-9007-4f8a-bc6c-604df25298d1",
   "metadata": {},
   "outputs": [],
   "source": [
    "# Normalize the vectors\n",
    "X = normalize(X)"
   ]
  },
  {
   "cell_type": "code",
   "execution_count": 16,
   "id": "d6ec928c-88cd-4d8e-a811-9d43e56d300f",
   "metadata": {},
   "outputs": [],
   "source": [
    "# Build the FAISS index\n",
    "dimension = X.shape[1]\n",
    "index = faiss.IndexFlatL2(dimension)\n",
    "index.add(X)"
   ]
  },
  {
   "cell_type": "code",
   "execution_count": 17,
   "id": "cad53189-8761-4b61-92e7-3e7cf1a4e12c",
   "metadata": {},
   "outputs": [],
   "source": [
    "# Function to retrieve similar products\n",
    "def retrieve_similar_products(query, k=5):\n",
    "    \"\"\"\n",
    "    Retrieve the top k most similar products to the given query.\n",
    " \n",
    "    Parameters:\n",
    "    - query (str): The query string for which similar products are to be retrieved.\n",
    "    - k (int, optional): The number of similar products to retrieve. Default is 5.\n",
    " \n",
    "    Returns:\n",
    "    - DataFrame: A DataFrame containing the top k most similar products.\n",
    "    \"\"\"\n",
    "    query_processed = preprocess_text(query)\n",
    "    query_vec = vectorizer.transform([query_processed]).toarray()\n",
    "    query_vec = normalize(query_vec)\n",
    "    distances, indices = index.search(query_vec, k)\n",
    "    return df.iloc[indices[0]]"
   ]
  },
  {
   "cell_type": "markdown",
   "id": "a73de5a4-9d8c-4f6a-9195-da85e19f944f",
   "metadata": {},
   "source": [
    "# Test and Assess the improved Product Retrieval Function"
   ]
  },
  {
   "cell_type": "code",
   "execution_count": 18,
   "id": "a8467ce8-e623-427c-af90-c20455c9f734",
   "metadata": {},
   "outputs": [
    {
     "name": "stdout",
     "output_type": "stream",
     "text": [
      "                           Summary  \\\n",
      "392                       Ham Base   \n",
      "338            Tasty, tasty tasty!   \n",
      "631         Love the smaller bags!   \n",
      "393                   MSG Ham Base   \n",
      "983  Best matcha quality and price   \n",
      "\n",
      "                                        processed_text  \n",
      "392  great ham soup base used ham bean seasoned gre...  \n",
      "338  like lot sesame oil use salad regularly great ...  \n",
      "631  yo kettle chip addict happy find snack size ba...  \n",
      "393  havent used ham base loaded msg realize ordere...  \n",
      "983  previously tried matcha product generally sati...  \n"
     ]
    }
   ],
   "source": [
    "# Test the retriever with an example query \"great quality ham\"\n",
    "query = \"great quality ham\"\n",
    "similar_products = retrieve_similar_products(query)\n",
    " \n",
    "# Display the summary and processed text of the retrieved products\n",
    "print(similar_products[['Summary', 'processed_text']])"
   ]
  },
  {
   "cell_type": "code",
   "execution_count": 19,
   "id": "4bff20d8-8852-4343-897c-f6a514af83c9",
   "metadata": {},
   "outputs": [
    {
     "name": "stdout",
     "output_type": "stream",
     "text": [
      "Query: great quality ham\n",
      "\n",
      "Product 393:\n",
      "Summary: Ham Base\n",
      "Text: great ham soup base used ham bean seasoned greenbeans great flavor\n",
      "\n",
      "Product 339:\n",
      "Summary: Tasty, tasty tasty!\n",
      "Text: like lot sesame oil use salad regularly great quality flavor aroma cant beat organic\n",
      "\n",
      "Product 632:\n",
      "Summary: Love the smaller bags!\n",
      "Text: yo kettle chip addict happy find snack size bag lunch great quality much cheaper store definitely buying\n",
      "\n",
      "Product 394:\n",
      "Summary: MSG Ham Base\n",
      "Text: havent used ham base loaded msg realize ordered return food item\n",
      "\n",
      "Product 984:\n",
      "Summary: Best matcha quality and price\n",
      "Text: previously tried matcha product generally satisfied quality price decided give pure matcha green rooibos try price seemed competitive quality pure matchas product surpasses others tried stay fresh consistent texture taste great quality price better others purchased quantity highly recommend pure matcha continue purchase\n",
      "\n"
     ]
    },
    {
     "name": "stdin",
     "output_type": "stream",
     "text": [
      "Relevance for Product 1 (1-5):  5\n",
      "Relevance for Product 2 (1-5):  0\n",
      "Relevance for Product 3 (1-5):  0\n",
      "Relevance for Product 4 (1-5):  3\n",
      "Relevance for Product 5 (1-5):  0\n"
     ]
    },
    {
     "name": "stdout",
     "output_type": "stream",
     "text": [
      "\n",
      "Assessment Results for Query 'great quality ham':\n",
      "Average Relevance: 1.60\n",
      "{'query': 'great quality ham', 'average_relevance': 1.6}\n"
     ]
    }
   ],
   "source": [
    "# Assess the retrieval function for the query \"great quality ham\"\n",
    "query = \"great quality ham\"\n",
    "assessment_results = assess_retrieval_function(query)\n",
    " \n",
    "# Print the assessment results\n",
    "print(assessment_results)"
   ]
  },
  {
   "cell_type": "markdown",
   "id": "43076f36-4a1b-4fb7-8f3f-5467d5f49a28",
   "metadata": {},
   "source": [
    "# Generate product descriptions from Multiple Reviews Using OpenAI's GPT-3.5 Turbo"
   ]
  },
  {
   "cell_type": "code",
   "execution_count": 20,
   "id": "d22dc801-523e-4dfa-9194-1987c3a761a0",
   "metadata": {},
   "outputs": [],
   "source": [
    "from openai import OpenAI\n",
    " \n",
    "client = OpenAI()"
   ]
  },
  {
   "cell_type": "code",
   "execution_count": 21,
   "id": "aa8ed1f8-6168-411b-bfdd-1b8fce68531d",
   "metadata": {},
   "outputs": [],
   "source": [
    "def generate_description_from_reviews(reviews):\n",
    "    \"\"\"\n",
    "    Generate a product description based on multiple reviews.\n",
    " \n",
    "    Parameters:\n",
    "    - reviews (list): A list of review strings.\n",
    " \n",
    "    Returns:\n",
    "    - str: A generated product description.\n",
    "    \"\"\"\n",
    "    combined_reviews = \" \".join(reviews)\n",
    "    response = client.chat.completions.create(\n",
    "        model=\"gpt-3.5-turbo\",\n",
    "        messages=[\n",
    "            {\"role\": \"system\", \"content\": \"You are a helpful assistant.\"},\n",
    "            {\"role\": \"user\", \"content\": f\"Generate a product description based on the following reviews: {combined_reviews}\"}\n",
    "        ],\n",
    "        max_tokens=400,\n",
    "        n=1,\n",
    "        stop=None,\n",
    "        temperature=0.7,\n",
    "    )\n",
    "    return response.choices[0].message.content"
   ]
  },
  {
   "cell_type": "code",
   "execution_count": 22,
   "id": "8b4fb844-b8de-4b73-aa6d-8cc4a63c4f4c",
   "metadata": {},
   "outputs": [
    {
     "name": "stdout",
     "output_type": "stream",
     "text": [
      "Introducing our newest product: Super Cheesy Cheese! Prepare to indulge in the cheesiest cheese you have ever tasted. Perfect for cheese lovers who can't get enough of that rich, gooey goodness. Add a burst of flavor to your favorite dishes with this irresistible cheese. Get ready to elevate your meals to a whole new level of cheesiness with our Super Cheesy Cheese!\n"
     ]
    }
   ],
   "source": [
    "# Test the function with a sample review\n",
    "sample_reviews = [\"The cheesiest cheese I have ever found.\"]\n",
    "description = generate_description_from_reviews(sample_reviews)\n",
    "print(description)"
   ]
  },
  {
   "cell_type": "markdown",
   "id": "21ea31f3-4462-40f8-b361-c837c388903b",
   "metadata": {},
   "source": [
    "# Generate Product Recommendations Using a Retrieval Augmented Generation (RAG) System"
   ]
  },
  {
   "cell_type": "markdown",
   "id": "ef1b1cde-b467-4f0b-9e0a-c0a81a2711c6",
   "metadata": {},
   "source": [
    "Define a function to generate product recommendations using a Retrieval-Augmented Generation (RAG) system. This involves retrieving similar products based on a query, extracting their reviews, and generating a combined product description using OpenAI's GPT-3.5 Turbo model. "
   ]
  },
  {
   "cell_type": "code",
   "execution_count": 23,
   "id": "4e418bf0-9050-4803-8624-b05f5be4fd81",
   "metadata": {},
   "outputs": [],
   "source": [
    "def generate_recommendation(query, k=5):\n",
    "    \"\"\"\n",
    "    Generate a product recommendation based on a query using a RAG system.\n",
    " \n",
    "    Parameters:\n",
    "    - query (str): The query string for retrieving similar products.\n",
    "    - k (int, optional): The number of similar products to retrieve. Default is 5.\n",
    " \n",
    "    Returns:\n",
    "    - str: A generated product description based on the retrieved reviews.\n",
    "    \"\"\"\n",
    "    # Retrieve similar products\n",
    "    similar_products = retrieve_similar_products(query, k)\n",
    "    # Extract the reviews of the retrieved products\n",
    "    reviews = similar_products['processed_text'].tolist()\n",
    "    # Generate a combined product description from the reviews\n",
    "    description = generate_description_from_reviews(reviews)\n",
    "    return description"
   ]
  },
  {
   "cell_type": "code",
   "execution_count": 24,
   "id": "4e17dd8c-1013-42cc-b910-4e844f9fa26e",
   "metadata": {},
   "outputs": [
    {
     "name": "stdout",
     "output_type": "stream",
     "text": [
      "Introducing our premium Ham and Bean Soup Base, a must-have for every kitchen! Made with seasoned green beans and a flavorful blend of high-quality ingredients, this soup base promises a delicious and hearty meal every time. Our customers rave about the rich flavor and top-notch quality of this product, making it a surefire hit at any party or gathering.\n",
      "\n",
      "Not only is our Ham and Bean Soup Base perfect for creating a comforting and satisfying soup, but it also serves as a versatile ingredient. Use it to enhance the taste of your favorite dishes, from stews to casseroles. With a hint of chocolate liquor and a touch of lemon juice, this soup base adds a unique twist to your culinary creations.\n",
      "\n",
      "Customers love the convenience and value of our product, noting that it's a great buy for its quality and taste. Whether you're a seasoned chef or a novice cook, our Ham and Bean Soup Base is sure to impress. So why wait? Elevate your meals with our exceptional soup base and experience the difference for yourself!\n"
     ]
    }
   ],
   "source": [
    "# Test the RAG system with an example query \"high quality ham\"\n",
    "query = \"high quality ham\"\n",
    "recommendations = generate_recommendation(query)\n",
    "print(recommendations)"
   ]
  },
  {
   "cell_type": "markdown",
   "id": "d62274f9-f030-4cd6-b399-85ffb26a87ff",
   "metadata": {},
   "source": [
    "# Evaluate Product Recommendations Using Bleu and Rouge Scores"
   ]
  },
  {
   "cell_type": "code",
   "execution_count": 25,
   "id": "e1fd7d01-924a-4ce7-8839-ecd2c5bc8f71",
   "metadata": {},
   "outputs": [],
   "source": [
    "from nltk.translate.bleu_score import sentence_bleu, SmoothingFunction\n",
    "from rouge_score import rouge_scorer\n",
    "\n",
    "def calculate_bleu(reference, candidate):\n",
    "    \"\"\"\n",
    "    Calculate BLEU score with smoothing.\n",
    " \n",
    "    Parameters:\n",
    "    - reference (str): The ground truth description.\n",
    "    - candidate (str): The generated description.\n",
    " \n",
    "    Returns:\n",
    "    - float: The BLEU score.\n",
    "    \"\"\"\n",
    "    reference_tokens = nltk.word_tokenize(reference)\n",
    "    candidate_tokens = nltk.word_tokenize(candidate)\n",
    "    smoothie = SmoothingFunction().method4  # Using method4 for smoothing\n",
    "    return sentence_bleu([reference_tokens], candidate_tokens, smoothing_function=smoothie)"
   ]
  },
  {
   "cell_type": "code",
   "execution_count": 26,
   "id": "e2cd8174-e85e-4552-a103-6c4f0de11e98",
   "metadata": {},
   "outputs": [],
   "source": [
    "def calculate_rouge(reference, candidate):\n",
    "    \"\"\"\n",
    "    Calculate ROUGE score.\n",
    " \n",
    "    Parameters:\n",
    "    - reference (str): The ground truth description.\n",
    "    - candidate (str): The generated description.\n",
    " \n",
    "    Returns:\n",
    "    - dict: A dictionary containing ROUGE-1, ROUGE-2, and ROUGE-L scores.\n",
    "    \"\"\"\n",
    "    scorer = rouge_scorer.RougeScorer(['rouge1', 'rouge2', 'rougeL'], use_stemmer=True)\n",
    "    scores = scorer.score(reference, candidate)\n",
    "    return scores"
   ]
  },
  {
   "cell_type": "code",
   "execution_count": 27,
   "id": "fad1c5ea-024e-40b1-85e7-2dfb44216576",
   "metadata": {},
   "outputs": [],
   "source": [
    "def evaluate_recommendations(recommendations, ground_truths):\n",
    "    \"\"\"\n",
    "    Evaluate the generated recommendations using BLEU and ROUGE scores.\n",
    " \n",
    "    Parameters:\n",
    "    - recommendations (list): A list of generated product descriptions.\n",
    "    - ground_truths (list): A list of ground truth product descriptions.\n",
    " \n",
    "    Returns:\n",
    "    - tuple: A tuple containing the average BLEU score and a dictionary of average ROUGE scores.\n",
    "    \"\"\"\n",
    "    bleu_scores = []\n",
    "    rouge_scores = {'rouge1': [], 'rouge2': [], 'rougeL': []}\n",
    "    \n",
    "    for rec, gt in zip(recommendations, ground_truths):\n",
    "        bleu_scores.append(calculate_bleu(gt, rec))\n",
    "        \n",
    "        rouge = calculate_rouge(gt, rec)\n",
    "        rouge_scores['rouge1'].append(rouge['rouge1'].fmeasure)\n",
    "        rouge_scores['rouge2'].append(rouge['rouge2'].fmeasure)\n",
    "        rouge_scores['rougeL'].append(rouge['rougeL'].fmeasure)\n",
    "    \n",
    "    avg_bleu = sum(bleu_scores) / len(bleu_scores)\n",
    "    avg_rouge = {key: sum(value) / len(value) for key, value in rouge_scores.items()}\n",
    "    \n",
    "    return avg_bleu, avg_rouge"
   ]
  },
  {
   "cell_type": "markdown",
   "id": "1ba4521a-490b-40c7-8d81-17894a573e2f",
   "metadata": {},
   "source": [
    "# Evaluate RAG model"
   ]
  },
  {
   "cell_type": "code",
   "execution_count": 28,
   "id": "6a3b177e-e657-4e0e-ab78-c33a65eef8e4",
   "metadata": {},
   "outputs": [],
   "source": [
    "# Example ground truth data\n",
    "ground_truths = [\n",
    "    \"Our premium ham is crafted from the finest cuts, offering a tender and flavorful experience with every bite. Perfect for gourmet sandwiches, festive dinners, and special occasions.\",\n",
    "    \"Organic cat food made with high-quality ingredients, ensuring a balanced diet for your feline friends. Rich in essential nutrients and free from artificial additives.\",\n",
    "    \"Discover the best dog food formulated with real meat and vegetables. Provides complete nutrition for your dog's health and vitality, without any fillers or preservatives.\",\n",
    "    \"Enjoy gluten-free snacks that are both delicious and healthy. Made with natural ingredients, these snacks are perfect for those with dietary restrictions.\",\n",
    "    \"Low carb protein bars packed with essential nutrients and great taste. Ideal for on-the-go energy and maintaining a healthy diet without compromising flavor.\",\n",
    "    # Add more ground truth descriptions for other queries as needed...\n",
    "]\n",
    " \n",
    "# Example queries corresponding to the ground truths\n",
    "queries = [\n",
    "    \"high quality ham\",\n",
    "    \"organic cat food\",\n",
    "    \"best dog food\",\n",
    "    \"gluten-free snacks\",\n",
    "    \"low carb protein bars\",\n",
    "    # Add more queries corresponding to the ground truths...\n",
    "]"
   ]
  },
  {
   "cell_type": "code",
   "execution_count": 29,
   "id": "1e9e19aa-78f2-4b1b-8a05-a74b960ecbea",
   "metadata": {},
   "outputs": [
    {
     "name": "stdout",
     "output_type": "stream",
     "text": [
      "[\"Introducing our Gourmet Soup and Beverage Party Pack, a must-have for any gathering or individual looking to elevate their culinary creations. \\n\\nCrafted with the finest ingredients, our ham soup base is the secret to creating a rich and flavorful ham and bean soup that will leave your guests craving for more. Paired with seasoned green beans, this soup base promises a delicious and satisfying meal experience.\\n\\nBut wait, there's more! Our party pack also includes a decadent chocolate liqueur cup that is sure to be a big hit at any celebration. Made with high-quality ingredients, this indulgent treat is a crowd pleaser and adds a touch of luxury to any event.\\n\\nFor those looking to add a refreshing twist to their beverages, our lemon juice supplement is a game-changer. Made from the freshest lemons, this product guarantees a burst of citrus flavor that will elevate your cocktails and refreshments.\\n\\nWith a focus on quality and customer satisfaction, our products are carefully curated to meet the highest standards. Whether you are a seasoned chef or a casual cook, our party pack is a versatile and convenient option for all your culinary needs.\\n\\nJoin the ranks of our recurring customers who keep coming back for more, drawn in by the superior quality and exceptional taste of our products. Don't miss out on this opportunity to enhance your kitchen creations with our gourmet party pack. Order now and experience the difference for yourself!\", \"Introducing the Holistic Select Cat Food - a premium solution for your feline friend's dietary needs. \\n\\nRecommended by vets and trusted by cat owners worldwide, this specially formulated cat food is designed to aid digestion and promote overall health in cats of all ages. Made with high-quality ingredients, it is ideal for cats like Cleo who may have trouble keeping food down or are losing weight. \\n\\nWith a blend of nutrients that support a healthy weight, this cat food is perfect for picky eaters like Garfield and cats who have been weaned on junk food. Say goodbye to lousy alternatives filled with corn meal and hello to a balanced and nutritious diet that your cat will love. \\n\\nUpgrade your cat's mealtime experience with Holistic Select Cat Food and see the benefits firsthand. Your furry companion will thank you with their renewed energy, shiny coat, and improved overall health. Don't settle for anything less than the best for your beloved pet - try Holistic Select Cat Food today and see the difference in your cat's well-being.\", \"Introducing Natural Balance Grain-Free Dog Food, the perfect choice for your furry companion's health and happiness. This premium dog food has received rave reviews from pet owners, including a year-old Basenji-Jack Russell mix who absolutely loves it. This natural dog food has made their dog noticeably healthier and more energetic since making the switch from standard dog food earlier this year.\\n\\nDespite the slightly higher cost compared to other dog foods, many customers find that their dogs eat significantly less of the Natural Balance dog food, making it a cost-effective choice in the long run. With a recommended serving size of just one cup per day versus the larger quantity of a standard dog food, you're getting more value for your money with Natural Balance.\\n\\nNot only is this dog food beneficial for your pet's health, but it's also great for dogs with allergies. One satisfied customer mentioned that their dog had issues with other dog foods in the past but has had no problems since switching to Natural Balance Grain-Free. The different kibble sizes cater to both larger and smaller dogs, and it's also suitable for dogs with environmental allergies.\\n\\nIf you're looking for a dog food that promotes good digestion and is suitable for puppies as well, Natural Balance Grain-Free Dog Food is the way to go. With free shipping for Amazon Prime members, it's a convenient and reliable option that will keep your dog healthy and happy. Say goodbye to allergy issues and digestive problems – make the switch to Natural Balance today!\", \"Introducing our delicious Gluten-Free Snack Bars, the perfect solution for those with gluten intolerance or celiac disease who are looking to enjoy a convenient and satisfying snack on the go. These snack bars are carefully crafted to provide a mouthwatering experience that closely resembles traditional snack bars, allowing you to resume a semblance of your former snacking habits.\\n\\nOur Gluten-Free Snack Bars come in a delightful Raspberry flavor, combining a pleasant tartness with a sweet fruit taste that is sure to please your taste buds. Customers have praised the enjoyable mouthfeel and the tartsweet flavor profile, making it an ideal snack for both individuals with gluten intolerance and their loved ones.\\n\\nWhether you're a fan of Enjoy Life products or new to the world of gluten-free snacks, our Gluten-Free Snack Bars are a must-try. Made without gluten, MSG, or related additives like aspartates, these bars are a guilt-free and delicious option for anyone seeking a satisfying snack that won't compromise their dietary restrictions.\\n\\nEach bar is individually wrapped, making it convenient to take on the go or keep in your car for whenever hunger strikes. Say goodbye to the struggle of finding a suitable gluten-free snack while roaming around – our Gluten-Free Snack Bars are here to provide a tasty and nutritious solution.\\n\\nDon't miss out on the opportunity to enjoy a great gluten-free snack that won't leave you disappointed. Choose our Gluten-Free Snack Bars in your favorite flavor, Apple Nut, and indulge in a snack that is both delicious and safe for your dietary needs.\", \"Introducing our Zero Carb Electrolyte Tablets - the perfect solution for staying hydrated and replenishing electrolytes without compromising your low-carb lifestyle. \\n\\nDesigned for athletes and active individuals alike, these tablets are a game-changer for anyone looking to maintain optimal performance during workouts or outdoor activities. Say goodbye to sugary sports drinks and hello to a refreshing and effective alternative.\\n\\nFormulated to perfection, our tablets have received rave reviews from customers who have experienced relief from leg cramps and improved hydration levels. Whether you're cycling in high heat or simply need a boost during your workout, these tablets are the answer to your electrolyte needs.\\n\\nAnd for those with dietary restrictions, our tablets are gluten-free and suitable for individuals with nut and egg allergies. Trust in a brand that prioritizes your health and safety, so you can enjoy a tasty and healthy snack without any worries.\\n\\nWhile our tablets may be small in size, they pack a punch in flavor and effectiveness. With a berry favorite that will leave your taste buds wanting more, these tablets are the perfect on-the-go snack for anyone on a low-carb diet.\\n\\nJoin the ranks of satisfied customers who have made our Zero Carb Electrolyte Tablets a staple in their routine. Don't let flavor and texture disappointments hold you back - try our tablets today and experience the difference for yourself.\"]\n"
     ]
    }
   ],
   "source": [
    "# Test the RAG system and generate recommendations\n",
    "recommendations = [generate_recommendation(query) for query in queries]\n",
    "print(recommendations)"
   ]
  },
  {
   "cell_type": "code",
   "execution_count": 30,
   "id": "cdce32db-66eb-45bf-b14b-f54fb9cde2e4",
   "metadata": {},
   "outputs": [
    {
     "name": "stdout",
     "output_type": "stream",
     "text": [
      "Average BLEU Score: 0.01167168312869522\n",
      "Average ROUGE Scores: {'rouge1': 0.12588040353127553, 'rouge2': 0.047828547393028886, 'rougeL': 0.09173841625691373}\n"
     ]
    }
   ],
   "source": [
    "# Evaluate the recommendations\n",
    "avg_bleu, avg_rouge = evaluate_recommendations(recommendations, ground_truths)\n",
    "print(f\"Average BLEU Score: {avg_bleu}\")\n",
    "print(f\"Average ROUGE Scores: {avg_rouge}\")"
   ]
  }
 ],
 "metadata": {
  "kernelspec": {
   "display_name": "Python 3 (ipykernel)",
   "language": "python",
   "name": "python3"
  },
  "language_info": {
   "codemirror_mode": {
    "name": "ipython",
    "version": 3
   },
   "file_extension": ".py",
   "mimetype": "text/x-python",
   "name": "python",
   "nbconvert_exporter": "python",
   "pygments_lexer": "ipython3",
   "version": "3.8.10"
  }
 },
 "nbformat": 4,
 "nbformat_minor": 5
}
